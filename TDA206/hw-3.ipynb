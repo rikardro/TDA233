{
 "cells": [
  {
   "cell_type": "markdown",
   "metadata": {},
   "source": [
    "\n",
    "$\\qquad$ $\\qquad$ $\\qquad$  **TDA231/DIT370 Discrete Optimization: Home Assignment 3 -- LP Duality and the Primal-Dual Algorithm** <br />\n",
    "$\\qquad$ $\\qquad$ $\\qquad$                   **During grading time, direct queries regarding Q-1,2 to David & Q-3 to Marc** <br />\n",
    "$\\qquad$ $\\qquad$ $\\qquad$                     **Due Date: 03/03/2025** <br />\n",
    "$\\qquad$ $\\qquad$ $\\qquad$                   **Submitted by: Name, Personal No., Email** <br />\n",
    "\n",
    "\n",
    "\n",
    "---\n",
    "\n",
    "\n",
    "General guidelines:\n",
    "*   All solutions to theoretical and pratical problems must be submitted in this ipynb notebook and equations, wherever required, should be formatted using LaTeX math-mode.\n",
    "*   All discussion regarding practical problems, along with solutions and plots should be specified in this notebook. All plots/results should be visible such that the notebook does not have to be run. But the code in the notebook should reproduce the plots/results if we choose to do so.\n",
    "*   Your name, personal number and email address should be specified above.\n",
    "*   All tables and other additional information should be included in this notebook.\n",
    "*   Before submitting, make sure that your code can run on another computer. That all plots can show on another computer including all your writing. It is good to check if your code can run here: https://colab.research.google.com.\n"
   ]
  },
  {
   "cell_type": "markdown",
   "metadata": {},
   "source": [
    "# Problem 1.\n",
    "\n",
    "Consider the following LP problem:\n",
    "\n",
    "\\begin{alignat*}{2}\n",
    "\\max \\ &4x_1-2x_2+5x_3+6x_4+7x_5\\\\\n",
    "\\\\\n",
    "\\textrm{s.t} \\quad\n",
    "&2x_1 + 2x_2 - 4x_3 + 4x_4 + 8x_5 &&\\leq 6\\\\\n",
    "&2x_1 + \\ \\ {}x_2 - 2x_3 - \\ \\ x_4 - 3x_5 &&\\geq -1\\\\\n",
    "&5x_1 - 2x_2 + 4x_3 + 4x_4 + 2x_5 &&= 5\\\\\n",
    "&2x_1 - 2x_2 + 5x_3 + 3x_4 + \\ \\ x_5 &&\\leq 4\\\\\n",
    "&\\hspace{5.3cm} \\vec x &&\\geq \\vec 0\n",
    "\\end{alignat*}\n",
    "\n",
    "* (4 points) Write the LP dual of this problem.\n",
    "* (3 points) Use CVXPY to compute the primal and dual optimum solutions and compare their values.\n",
    "* (3 points) Check the complementary slackness conditions."
   ]
  },
  {
   "cell_type": "markdown",
   "metadata": {},
   "source": [
    "The primal linear program above is given by:\n",
    "\n",
    "$$\n",
    "    \\max  c^\\top \\mathbf{x} \\\\\n",
    "    \\text{s.t. } \\mathbf{A}\\mathbf{x} \\vec{\\mathcal{O}} \\mathbf{b}\n",
    "$$\n",
    "\n",
    "where\n",
    "\n",
    "<!-- \\begin{bmatrix}\n",
    "1 & 0 & 0 & 0 & 0\\\\\n",
    "0 & 1 & 0 & 0 & 0\\\\\n",
    "0 & 0 & 1 & 0 & 0\\\\\n",
    "0 & 0 & 0 & 1 & 0 \\\\\n",
    "0 & 0 & 0 & 0 & 1 \\\\\n",
    "\\end{bmatrix} -->\n",
    "\n",
    "$$\n",
    "\\mathbf{A} =\n",
    "\\begin{bmatrix}\n",
    "2 & 2 & -4 & 4 & 8 \\\\\n",
    "2 & 1 & -2 & -1 & -3\\\\\n",
    "5 & -2 & 4 & 4 & 2 \\\\\n",
    "2 & -2 & 5 & 3 & 1 \\\\\n",
    "\\end{bmatrix}\n",
    ", \n",
    "\\mathbf{c} =\n",
    "\\begin{bmatrix}\n",
    "4 \\\\\n",
    "-2 \\\\\n",
    "5 \\\\\n",
    "6 \\\\\n",
    "7 \\\\\n",
    "\\end{bmatrix}\n",
    ", \n",
    "\\vec{\\mathcal{O}} =\n",
    "\\begin{bmatrix}\n",
    "\\leq \\\\\n",
    "\\geq \\\\\n",
    "= \\\\\n",
    "\\leq \\\\\n",
    "\\end{bmatrix}\n",
    ", \n",
    "\\mathbf{b} =\n",
    "\\begin{bmatrix}\n",
    "6 \\\\\n",
    "-1 \\\\\n",
    "5 \\\\\n",
    "4 \\\\\n",
    "\\end{bmatrix}\n",
    ", \n",
    "\\vec x \\geq \\vec 0\n",
    "$$\n",
    "\n",
    "\n",
    "The LP dual is defined as follows:\n",
    "\n",
    "$$\n",
    "    \\min b^\\top \\mathbf{y} \\\\\n",
    "    \\text{s.t. } \\mathbf{A^\\top}\\mathbf{y} \\vec{\\mathcal{O_2}} \\mathbf{c}\n",
    "$$\n",
    "\n",
    "where\n",
    "\n",
    "$$\n",
    "\\mathbf{A}^T =\n",
    "\\begin{bmatrix} \n",
    "2 & 2 & 5 & 2 \\\\ \n",
    "2 & 1 & -2 & -2 \\\\ \n",
    "-4 & -2 & 4 & 5 \\\\ \n",
    "4 & -1 & 4 & 3 \\\\ \n",
    "8 & -3 & 2 & 1 \n",
    "\\end{bmatrix}\n",
    ",\n",
    "\\vec{\\mathcal{O_2}} = \n",
    "\\begin{bmatrix}\n",
    "\\geq \\\\\n",
    "\\geq \\\\\n",
    "\\geq \\\\\n",
    "\\geq \\\\\n",
    "\\end{bmatrix}\n",
    ",\n",
    "\\vec y\n",
    "\\begin{bmatrix}\n",
    "\\geq 0\\\\\n",
    "\\leq 0\\\\\n",
    "\\in \\R \\\\\n",
    "\\geq 0 \\\\\n",
    "\\end{bmatrix}\n",
    "$$\n",
    "\n",
    "If we write it out we get the following LP:\n",
    "\n",
    "\\begin{alignat*}{2}\n",
    "\\min \\quad & 5y_1 - y_2 + 5y_3 + 4y_4\\\\\n",
    "\\\\\n",
    "\\textrm{s.t.} \\quad\n",
    "&2y_1 + 2y_2 + 5y_3 + 2y_4 &&\\geq 4\\\\\n",
    "&2y_1 + \\ \\ {}y_2 - 2y_3 - 2y_4 &&\\geq -2\\\\\n",
    "&-4y_1 - 2y_2 + 4y_3 + 5y_4 &&\\geq 5\\\\\n",
    "&4y_1 - y_2 + 4y_3 + 3y_4 &&\\geq 6\\\\\n",
    "&8y_1 - 3y_2 + 2y_3 + y_4 &&\\geq 7\\\\\n",
    "&y_1 \\geq 0, y_2 \\leq 0, y_4 \\geq 0\\\\\n",
    "\\end{alignat*}\n"
   ]
  },
  {
   "cell_type": "code",
   "execution_count": null,
   "metadata": {
    "collapsed": true,
    "jupyter": {
     "outputs_hidden": true
    }
   },
   "outputs": [],
   "source": []
  },
  {
   "cell_type": "markdown",
   "metadata": {},
   "source": [
    "# Problem 2.\n",
    "\n",
    "Consdier the LP problem:\n",
    "\\begin{alignat*}{2}\n",
    "\\max \\ &6x_1 - 5x_3\\\\\n",
    "\\\\\n",
    "\\textrm{s.t} \\quad\n",
    "&6x_1 - 3x_2 + x_3 &&= 2\\\\\n",
    "&3x_1 + 4x_2 + x_3 &&\\leq 5\\\\\n",
    "&\\ \\ x_1 - 7x_2 &&\\leq 5\\\\\n",
    "&\\hspace{2.45cm} x_1 &&\\geq 0\\\\\n",
    "&\\hspace{2.45cm} x_2 &&\\leq 0\\\\\n",
    "&\\hspace{2.45cm} x_3 &&\\text{ unrestricted}\n",
    "\\end{alignat*}\n",
    "\n",
    "* (3 points) Write the LP dual of this problem.\n",
    "* (4 points) Consider the feasible solution $\\vec x = (0,0,2)$ to the primal. Check if this solution is optimal by using the complementary slackness conditions to write down the corresponding dual solution.\n",
    "* (3 points) Use complementary slackness to check if the primal feasible solution $\\vec x = (1,0,-4)$ is optimal."
   ]
  },
  {
   "cell_type": "code",
   "execution_count": null,
   "metadata": {
    "collapsed": true,
    "jupyter": {
     "outputs_hidden": true
    }
   },
   "outputs": [],
   "source": []
  },
  {
   "cell_type": "markdown",
   "metadata": {},
   "source": [
    "# Problem 3.\n",
    "\n",
    "Consider the primal-dual algorithm for vertex cover discussed in class.\n",
    "* (4 points) Run the algorithm by hand on the graph in the figure below (from your previous homework). Show the values of the primal and dual variables at each iteration.\n",
    "* (6 points) Implement the primal-dual algorithm as a python script to compute (approximate) vertex covers and run it for the random graph $G(100,0.1)$ from the previous homework.\n",
    "\n",
    "<img src=\"https://tinyurl.com/tsnuz2c\" alt=\"Drawing\" style=\"width: 180px;\"/>\n",
    "\n",
    "If the image does not load, try the direct link: https://tinyurl.com/tsnuz2c"
   ]
  },
  {
   "cell_type": "code",
   "execution_count": null,
   "metadata": {
    "collapsed": true,
    "jupyter": {
     "outputs_hidden": true
    }
   },
   "outputs": [],
   "source": []
  }
 ],
 "metadata": {
  "kernelspec": {
   "display_name": "Python 3 (ipykernel)",
   "language": "python",
   "name": "python3"
  },
  "language_info": {
   "codemirror_mode": {
    "name": "ipython",
    "version": 3
   },
   "file_extension": ".py",
   "mimetype": "text/x-python",
   "name": "python",
   "nbconvert_exporter": "python",
   "pygments_lexer": "ipython3",
   "version": "3.11.9"
  }
 },
 "nbformat": 4,
 "nbformat_minor": 4
}
