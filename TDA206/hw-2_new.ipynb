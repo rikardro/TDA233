{
 "cells": [
  {
   "cell_type": "markdown",
   "metadata": {
    "id": "9BpU0PTotQH_"
   },
   "source": [
    "\n",
    "$\\qquad$ $\\qquad$ $\\qquad$  **TDA206/DIT206 Discrete Optimization: Home Assignment 2 -- Integer LP and Relaxation** <br />\n",
    "$\\qquad$ $\\qquad$ $\\qquad$                   **Grader: Marc Constantin** <br />\n",
    "$\\qquad$ $\\qquad$ $\\qquad$                   **Due Date: 17th Feb** <br />\n",
    "$\\qquad$ $\\qquad$ $\\qquad$                   **Submitted by: Name, Personal No., Email** <br />\n",
    "\n",
    "\n",
    "---\n",
    "\n",
    "\n",
    "General guidelines:\n",
    "*   All solutions to theoretical and pratical problems must be submitted in this ipynb notebook, and equations wherever required, should be formatted using LaTeX math-mode.\n",
    "*   All discussion regarding practical problems, along with solutions and plots should be specified in this notebook. All plots/results should be visible such that the notebook do not have to be run. But the code in the notebook should reproduce the plots/results if we choose to do so.\n",
    "*   Your name, personal number and email address should be specified above.\n",
    "*   All tables and other additional information should be included in this notebook.\n",
    "*   Before submitting, make sure that your code can run on another computer. That all plots can show on another computer including all your writing. It is good to check if your code can run here: https://colab.research.google.com.\n"
   ]
  },
  {
   "cell_type": "markdown",
   "metadata": {
    "id": "b2Ga2PmEtQIA"
   },
   "source": [
    "# Question 1.\n",
    "(5 points) \n",
    "There are 4 space colonies, each of which  requires a certain number of plasma conduits. There are 3 starbases in the vicinity. Each of them has total number of conduits they can spare and supply to the colonies. For each pair of starbase and colony, there is an associated cost for sending a cargo ship  (each of which carries one plasma conduit), as shown in the table below:\n",
    "\n",
    "\n",
    "\\begin{array}{l|c|c|c|c|c} \n",
    "      & Triacus & New Berlin  & Strnad  & Vega  & supply\\\\ \\hline\n",
    " Farpoint &   6 &  9 & 10 & 8 & 35\\\\\n",
    " Yorktown &  9 & 5 & 16 & 14 & 40\\\\\n",
    " Earhart & 12 &  7 & 13 & 9 & 50\\\\ \\hline\n",
    "    demand & 20 &30&30&45& \\left(\\sum=125\\right) \\\\ \n",
    "\\end{array}\n",
    "\n",
    "Your goal is to supply the colonies the plasma conduits they need, at minimum cost.\n",
    "\n",
    "\n",
    "Formulate a LP to solve the problem, explain why the solution is integral with a proof."
   ]
  },
  {
   "cell_type": "code",
   "execution_count": 12,
   "metadata": {},
   "outputs": [
    {
     "name": "stdout",
     "output_type": "stream",
     "text": [
      "Objective value: 1020.0\n",
      "Farpoint: [10.0, 0.0, 25.0, 0.0]\n",
      "Yorktown: [10.0, 30.0, 0.0, 0.0]\n",
      "Earhart: [0.0, 0.0, 5.0, 45.0]\n"
     ]
    }
   ],
   "source": [
    "import cvxpy as cp \n",
    "\n",
    "# Variables\n",
    "xf = cp.Variable(4, nonneg=True)\n",
    "xy = cp.Variable(4, nonneg=True)\n",
    "xe = cp.Variable(4, nonneg=True)\n",
    "\n",
    "# Objective function\n",
    "obj = cp.Minimize(6 * xf[0] + 9 * xf[1] + 10 * xf[2] + 8 * xf[3] + \n",
    "                  9 * xy[0] + 5 * xy[1] + 16 * xy[2] + 14 * xy[3] + \n",
    "                  12 * xe[0] + 7 * xe[1] + 13 * xe[2] + 9 * xe[3])\n",
    "\n",
    "# Constraints\n",
    "constraints = []\n",
    "# Supply\n",
    "constraints.append(sum(xf) <= 35)\n",
    "constraints.append(sum(xy) <= 40)\n",
    "constraints.append(sum(xe) <= 50)\n",
    "# Demand\n",
    "t, n, s, v = zip(xf, xy, xe)\n",
    "constraints.append(sum(t) >= 20)\n",
    "constraints.append(sum(n) >= 30)\n",
    "constraints.append(sum(s) >= 30)\n",
    "constraints.append(sum(v) >= 45)\n",
    "\n",
    "# Solution\n",
    "prob = cp.Problem(obj, constraints)\n",
    "opt = prob.solve()\n",
    "print(f\"Objective value: {round(opt, 2)}\")\n",
    "print(f\"Farpoint: {[round(float(i.value), 2) for i in xf]}\")\n",
    "print(f\"Yorktown: {[round(float(i.value), 2) for i in xy]}\")\n",
    "print(f\"Earhart: {[round(float(i.value), 2) for i in xe]}\")"
   ]
  },
  {
   "cell_type": "markdown",
   "metadata": {
    "id": "xFec7wzqtQIB"
   },
   "source": [
    "# Question 2.\n",
    "\n",
    "Recall the Minimum Weight Vertex Cover (VC) Problem: Given an undirected graph $G=(V, E)$, with node set $V$ and edge set $E$, where each node has a positive weight $w(v)$ associated with it (see the attached figure), the goal is to select a subset $V'\\subseteq V$ of nodes such that every edge has at least one node incident to it, and the total selected node weight $\\sum_{v\\in V'} w(v)$ is minimized. \n",
    "\n",
    "* (4 points) Formulate the ILP for the VC problem for the attached graph, and solve it using **CVXPY** integer solver, for instance, `myVar = cp.Variable(<dim>, integer=True)`.\n",
    "* (2 points) Pass to the LP relaxation and solve it using **CVXPY** and comment on the relation between the two solutions.\n",
    "* (2 points) Apply the rounding rule discussed in class to the optimal LP solution to obtain a solution to the ILP and compare it to the optimal ILP solution.\n",
    "\n",
    "<!-- ![title](vertex_cover_example.png) -->\n"
   ]
  },
  {
   "cell_type": "markdown",
   "metadata": {},
   "source": [
    "In a Minimum Weight Vertex Cover we want to minimize the total cost of picking vertices under the constraints that all edges must be connected to one vertex in the chosen set.\n",
    "\n",
    "We can formulate this problem as follows.\n",
    "\n",
    "$ \\text{min} \\sum_{v \\in V'}{w(v)} \\\\$\n",
    "s.t.\n",
    "$\\\\ x_u + x_v \\geq 1, (u,v) \\in E \\\\$\n",
    "$x =\n",
    "\\begin{cases}\n",
    "1, & u \\in V'\\\\\n",
    "0, & \\text{otherwise}\n",
    "\\end{cases}$"
   ]
  },
  {
   "cell_type": "code",
   "execution_count": 13,
   "metadata": {},
   "outputs": [],
   "source": [
    "# Function returning Minimum Weight Vertex Cover\n",
    "\n",
    "def min_weight_VC(nodes, weights):\n",
    "    # Objective function\n",
    "    obj = cp.Minimize(sum(x * y for x, y in zip(nodes, weights)))\n",
    "\n",
    "    # Constraints\n",
    "    constraints = [nodes[0] + nodes[1] >= 1,\n",
    "                   nodes[1] + nodes[2] >= 1,\n",
    "                   nodes[1] + nodes[4] >= 1,\n",
    "                   nodes[2] + nodes[3] >= 1,\n",
    "                   nodes[2] + nodes[4] >= 1,\n",
    "                   nodes[3] + nodes[4] >= 1,\n",
    "                   nodes[4] + nodes[5] >= 1,\n",
    "                   nodes >= 0\n",
    "                ]\n",
    "\n",
    "    # Solution\n",
    "    prob = cp.Problem(obj, constraints)\n",
    "    return prob.solve()"
   ]
  },
  {
   "cell_type": "code",
   "execution_count": 14,
   "metadata": {},
   "outputs": [
    {
     "name": "stdout",
     "output_type": "stream",
     "text": [
      "Objective value: 7.0\n",
      "Solution vector: [-0.0, 1.0, -0.0, 1.0, 1.0, -0.0]\n"
     ]
    }
   ],
   "source": [
    "# ILP solution for the attached graph\n",
    "\n",
    "# Variables\n",
    "nodes = cp.Variable(6, integer=True)\n",
    "weights = [1, 3, 4, 2, 2, 4]\n",
    "\n",
    "opt = min_weight_VC(nodes, weights)\n",
    "print(f\"Objective value: {round(opt, 2)}\")\n",
    "print(f\"Solution vector: {[round(float(n.value), 2) for n in nodes]}\")"
   ]
  },
  {
   "cell_type": "code",
   "execution_count": 15,
   "metadata": {},
   "outputs": [
    {
     "name": "stdout",
     "output_type": "stream",
     "text": [
      "Objective value: 7.0\n",
      "Solution vector: [0.48, 0.52, 0.48, 0.52, 1.0, -0.0]\n"
     ]
    }
   ],
   "source": [
    "# Solution of the LP relaxation of the attached graph\n",
    "\n",
    "# Variables (no constraint on them being integral)\n",
    "nodes = cp.Variable(6)\n",
    "weights = [1, 3, 4, 2, 2, 4]\n",
    "\n",
    "opt = min_weight_VC(nodes, weights)\n",
    "print(f\"Objective value: {round(opt, 2)}\")\n",
    "print(f\"Solution vector: {[round(float(n.value), 2) for n in nodes]}\")"
   ]
  },
  {
   "cell_type": "markdown",
   "metadata": {},
   "source": [
    "Without integer constraints on the variables (nodes), they can be of any value. This solution does not make sense, because the node variables are supposed to be representations of booleans. We overcome this problem by rounding the nodes to 0 or 1:\n",
    "\n",
    "$ \\tilde{x_u} = \n",
    "\\begin{cases}\n",
    "1, & x_u^* \\geq 0.5\\\\\n",
    "0, & \\text{otherwise}\n",
    "\\end{cases}\n",
    "$\n",
    "\n",
    "Then, we obtain the (relaxed) optimal solution by multiplying with nodes to the weights.\n",
    "\n",
    "In this case, the optimal solution was identical to the ILP optimal, but this is not necessarily the case."
   ]
  },
  {
   "cell_type": "code",
   "execution_count": 16,
   "metadata": {},
   "outputs": [
    {
     "name": "stdout",
     "output_type": "stream",
     "text": [
      "Objective value: 7\n",
      "Solution vector: [0, 1, 0, 1, 1, 0]\n"
     ]
    }
   ],
   "source": [
    "# Solution of the LP relaxation of the attached graph\n",
    "\n",
    "# Variables (no constraint on them being integral)\n",
    "nodes = cp.Variable(6)\n",
    "weights = [1, 3, 4, 2, 2, 4]\n",
    "\n",
    "opt = min_weight_VC(nodes, weights)\n",
    "\n",
    "# round nodes to 0/1\n",
    "nodes = [round(float(n.value)) for n in nodes]\n",
    "\n",
    "# Update optimal value\n",
    "new_opt = sum(x * y for x, y in zip(nodes, weights))\n",
    "\n",
    "print(f\"Objective value: {round(new_opt, 2)}\")\n",
    "print(f\"Solution vector: {[n for n in nodes]}\")"
   ]
  },
  {
   "cell_type": "markdown",
   "metadata": {
    "id": "FJozdRm7tQIE"
   },
   "source": [
    "# Question 3.\n",
    "\n",
    "Consider a number of interpreters (Olof, Petra, Qamar,\n",
    "  Rachel, Soren and Tao), as well as a set of languages (Arab,\n",
    "  Bengali, Cantonese, Dutch, English, French and German). Each\n",
    "  interpreter speaks a number of different languages (abbreviated by\n",
    "  first letter), and has a certain per-diem integer cost:\n",
    "\n",
    "\\begin{array}{lll}\n",
    "Interpreter & Languages & Cost\\\\\n",
    "O & ABD & 3\\\\\n",
    "P & C & 1\\\\\n",
    "Q & CDG & 1\\\\\n",
    "R & B & 2\\\\\n",
    "S & G & 4\\\\\n",
    "T & EF & 1\\\\\n",
    "\\end{array}\n",
    "\n",
    "* (2 points) A *hypergraph* is a structure $H = (V,E)$ where $V$ is a set of vertices and $E$ is a collection of subsets of $V$. The special case when all subsets $e \\in E$ have size exactly $2$ corresponds to the familiar case of a graph. A vertex cover in such a hypergraph is a subset $U \\subseteq V$ such that $e \\cap U \\not = \\emptyset$ for each $e \\in E$ (note that this reduces to the usual vertex cover in graphs). Show that the problem of finding interpreters can be formulated as a vertex cover problem in a sutable hypergraph.\n",
    "* (4 points) Develop a ILP formulation to finding the vertex cover of minimum cost in a hypergraph. The hypergraph can be represented as a $|V| \\times |E|$ binary matrix $A$ where $A[i,j] = 1$ iff vertex $i$ is in edge $j$ and 0 otherwise. The costs for vertices are in an array $\\texttt{c}$ where the cost of picking vertex $i$ is $c[i]$. Use the ILP formulation for the VC problem to hire the cheapest set of interpreters such that all languages are covered. Input the data above manuallly and solve it using **CVXPY**'s integer solver.\n",
    "* (2 points) Pass to the LP relaxation and solve it using **CVXPY**.\n",
    "* (2 points) Explain why the two solutions above are same (different).\n"
   ]
  },
  {
   "cell_type": "markdown",
   "metadata": {},
   "source": [
    "Note: The problem of finding interpreters is interpreted as finding a set of interpreters s.t. all langauges are represented.\n",
    "\n",
    "* Let $H=(V,E)$ where $V = \\{O,P,Q,R,S,T\\}$ and $E = \\{(O), (O,R), (P,Q), (O,Q), (T), (T), (Q) \\}$ where $e_i$ is the collection of interpreters speaking language $L_i$, $L = \\{A,B,C,D,E,F,G\\}$. A vertex cover in $H$ will select $U \\subseteq V$ s.t. all languages are represented, thus solving the task."
   ]
  },
  {
   "cell_type": "code",
   "execution_count": 42,
   "metadata": {},
   "outputs": [
    {
     "name": "stdout",
     "output_type": "stream",
     "text": [
      "Objective value: 5.0\n",
      "Solution vector: [1.0, -0.0, 1.0, -0.0, -0.0, 1.0]\n"
     ]
    }
   ],
   "source": [
    "import cvxpy as cp \n",
    "\n",
    "# Variables\n",
    "interpreters = cp.Variable(6, integer=True)\n",
    "costs = [3, 1, 1, 2, 4, 1]\n",
    "# A = [[1, 1, 0, 1, 0, 0, 0],\n",
    "#      [0, 0, 1, 0, 0, 0, 0],\n",
    "#      [0, 0, 1, 1, 0, 0, 1],\n",
    "#      [0, 1, 0, 0, 0, 0, 0],\n",
    "#      [0, 0, 0, 0, 0, 0, 1],\n",
    "#      [0, 0, 0, 0, 1, 1, 0]]\n",
    "# print(\"A\")\n",
    "# print([A[row] for row in len(A)])\n",
    "\n",
    "# Objective function\n",
    "obj = cp.Minimize(sum(x * y for x, y in zip(interpreters, costs)))\n",
    "\n",
    "# Constraints\n",
    "# constraints = [interpreters >= 0]\n",
    "# a_t = [[A[j][i] for j in range(len(A))] for i in range(len(A[0]))]\n",
    "\n",
    "# for i in range(len(a_t)):\n",
    "#     lan = []\n",
    "#     for j in range(len(a_t[i])):\n",
    "#         if a_t[i][j] == 1:\n",
    "#             lan.append(j)\n",
    "#     # constraints.append(sum(interpreters[k]) >= 1 for k in range(len(lan)))\n",
    "#     s = []\n",
    "#     for k in range(len(lan)):\n",
    "#         s.append(interpreters[k])\n",
    "#     constraints.append(sum(s) >= 1)\n",
    "\n",
    "# print(f\"Constraints: {constraints}\")\n",
    "\n",
    "constraints = [interpreters[0] >= 1,\n",
    "               interpreters[0] + interpreters[3] >= 1,\n",
    "               interpreters[1] + interpreters[2] >= 1,\n",
    "               interpreters[0] + interpreters[2] >= 1, \n",
    "               interpreters[5] >= 1, \n",
    "               interpreters[2] + interpreters[4] >= 1,\n",
    "               interpreters >= 0]\n",
    "\n",
    "# Solution\n",
    "prob = cp.Problem(obj, constraints)\n",
    "opt = prob.solve()\n",
    "print(f\"Objective value: {round(opt, 2)}\")\n",
    "print(f\"Solution vector: {[float(i.value) for i in interpreters]}\")"
   ]
  },
  {
   "cell_type": "code",
   "execution_count": 45,
   "metadata": {},
   "outputs": [
    {
     "name": "stdout",
     "output_type": "stream",
     "text": [
      "Objective value: 5.0\n",
      "Solution vector: [1.0, 0.0, 1.0, -0.0, -0.0, 1.0]\n"
     ]
    }
   ],
   "source": [
    "import cvxpy as cp \n",
    "\n",
    "# Variables\n",
    "interpreters = cp.Variable(6)\n",
    "costs = [3, 1, 1, 2, 4, 1]\n",
    "\n",
    "# Objective function\n",
    "obj = cp.Minimize(sum(x * y for x, y in zip(interpreters, costs)))\n",
    "\n",
    "# Constraints\n",
    "constraints = [interpreters[0] >= 1,\n",
    "               interpreters[0] + interpreters[3] >= 1,\n",
    "               interpreters[1] + interpreters[2] >= 1,\n",
    "               interpreters[0] + interpreters[2] >= 1, \n",
    "               interpreters[5] >= 1, \n",
    "               interpreters[2] + interpreters[4] >= 1,\n",
    "               interpreters >= 0]\n",
    "\n",
    "# Solution\n",
    "prob = cp.Problem(obj, constraints)\n",
    "opt = prob.solve()\n",
    "print(f\"Objective value: {round(opt, 2)}\")\n",
    "print(f\"Solution vector: {[round(float(i.value), 2) for i in interpreters]}\")"
   ]
  },
  {
   "cell_type": "markdown",
   "metadata": {},
   "source": [
    "<!-- * (2 points) Explain why the two solutions above are same (different). -->\n",
    "The ILP solution equals the LP relaxation solution. However, this is not due to that fractions of vertices can not be pat of an optimal solution, but rather due to the costs of the interpreters in the example. Since T is the only one speaking E and F, and O is the only one speaking A, we must choose those interpreters. Since O also speaks B and D, the remaining languages are C and G. Since Q speaks both C and G, and also has the lowest possible cost, there can not be any other optimal solution than choosing Q.\n",
    "\n",
    "If we change the costs of Q to 2 and S to 1, we get the solution vector [1.0, 0.51, 0.49, 0.0, 0.51, 1.0].\n",
    "\n",
    "In mathematical terms, our constraints say that $x_1 \\geq 1$ and $x_6 \\geq 1$ i.e. O and T is part of the solution. The constraints $x_1 + x_4 \\geq 1$ and $x_1 + x_3 \\geq 1$ is redundant since $x_1 \\geq 1$ and $x_i \\geq 0$ for all $x_i$. The remaining constraints are thus $x_2 + x_3 \\geq 1$ and $x_3 + x_5 \\geq 1$ where the objective function wants to minimize $x_2 + x_3 + 4 x_5$ which (regardless of ILP or LP) equals $x_3 = 1$. \n",
    "\n",
    "<!-- Since the objective function minimizes $\\sum_{u \\in V}{c_u x_u}$ and  -->\n"
   ]
  },
  {
   "cell_type": "markdown",
   "metadata": {
    "id": "wQn66ghatQIG"
   },
   "source": [
    "# Question 4. \n",
    "Consider the ILP and its LP relaxation corresponding to the VC problem for the graph $G$ given in the data file. This is a ***random graph*** $G(n,p)$ with $n=100$ vertices generated as follows: for each pair of vertices **independently**, we add an edge with probability $p=0.1$ (so the graph has about 1000 edges).\n",
    "\n",
    "* **a**. (2 points) Find the optimal solution using **CVXPY**'s integer solver.\n",
    "* **b**. (2 points) Solve the LP relaxation using **CVXPY** and apply the rounding rule discussed in class to obtain a vertex cover. Compare it to the optimal solution in part (a).\n",
    "* **c**. (6 points) Consider the following rounding rule: we build up the vertex cover incrementally starting with $S:= \\emptyset$. Now consider the edges in $G$ in any order. If an edge $(u,v)$ is already covered by a vertex in $S$, do nothing. Otherwise add to $S$ the vertex $u$ if $x^*(u) \\geq x^*(v)$, or $v$ otherwise (where ${\\bf x}^*$ is the LP optimum solution computed in part (b).  Comment why this also results in a vertex cover and has cost no more than that corresponding to the rounding rule in part (b). Compare the cost of the solution produced by this rule to the optimal solution."
   ]
  },
  {
   "cell_type": "code",
   "execution_count": 63,
   "metadata": {},
   "outputs": [
    {
     "name": "stdout",
     "output_type": "stream",
     "text": [
      "Number of edges: 980\n",
      "Objective value: 70.0\n",
      "Solution vector: [1.0, 1.0, -0.0, -0.0, -0.0, 1.0, 1.0, 1.0, -0.0, 1.0, -0.0, -0.0, 1.0, 1.0, -0.0, 1.0, 1.0, 1.0, -0.0, -0.0, 1.0, 1.0, 1.0, 1.0, 1.0, 1.0, 1.0, 1.0, -0.0, 1.0, 1.0, -0.0, -0.0, 1.0, 1.0, 1.0, -0.0, 1.0, 1.0, 1.0, 1.0, 1.0, 1.0, 1.0, 1.0, 1.0, -0.0, 1.0, 1.0, 1.0, -0.0, -0.0, -0.0, 1.0, 1.0, 1.0, 1.0, -0.0, -0.0, 1.0, 1.0, 1.0, 1.0, 1.0, -0.0, 1.0, -0.0, 1.0, 1.0, 1.0, 1.0, -0.0, -0.0, -0.0, -0.0, 1.0, -0.0, -0.0, 1.0, 1.0, 1.0, 1.0, 1.0, 1.0, 1.0, 1.0, 1.0, -0.0, 1.0, 1.0, 1.0, 1.0, 1.0, 1.0, 1.0, -0.0, 1.0, -0.0, 1.0, 1.0]\n"
     ]
    }
   ],
   "source": [
    "# **a**. (2 points) Find the optimal solution using **CVXPY**'s integer solver.\n",
    "\n",
    "import cvxpy as cp \n",
    "\n",
    "# Variables\n",
    "nodes = cp.Variable(100, integer=True)\n",
    "\n",
    "with open(\"graph.txt\", \"r\") as f:\n",
    "    graph = [[int(num) for num in line.split()] for line in f]\n",
    "\n",
    "edges = []\n",
    "for i in range(len(graph)):\n",
    "    for j in range(len(graph[i])):\n",
    "        if graph[i][j] == 1:\n",
    "            edges.append((i,j))\n",
    "print(f\"Number of edges: {len(edges)}\")\n",
    "\n",
    "# Objective function\n",
    "obj = cp.Minimize(sum(nodes))\n",
    "\n",
    "# Constraints\n",
    "constraints = [nodes >= 0]\n",
    "\n",
    "for (m,n) in edges:\n",
    "    constraints.append(nodes[m] + nodes[n] >= 1)\n",
    "\n",
    "# Solution\n",
    "prob = cp.Problem(obj, constraints)\n",
    "opt = prob.solve()\n",
    "print(f\"Objective value: {round(opt, 2)}\")\n",
    "print(f\"Solution vector: {[round(float(i.value), 2) for i in nodes]}\")"
   ]
  },
  {
   "cell_type": "code",
   "execution_count": 62,
   "metadata": {},
   "outputs": [
    {
     "name": "stdout",
     "output_type": "stream",
     "text": [
      "Objective value (before rounding): 50.0\n",
      "Solution vector (before rounding): [0.500000000027591, 0.49999999999986944, 0.5000000000044335, 0.49999999999428957, 0.5000000000030659, 0.5000000000068782, 0.5000000000071365, 0.5000000000034065, 0.49999999999804845, 0.49999999999884565, 0.49999999998820593, 0.49999999999593014, 0.5000000000206385, 0.49999999999652, 0.49999999999231026, 0.5000000000046911, 0.5000000000021066, 0.49999999999576794, 0.4999999999753837, 0.5000000000007743, 0.500000000018824, 0.49999999999131567, 0.5000000000028995, 0.4999999999978037, 0.4999999999993328, 0.499999999995314, 0.5000000000033956, 0.5000000000066869, 0.5000000000020646, 0.5000000000053395, 0.5000000000242643, 0.4999999999894045, 0.49999999999095024, 0.5000000000024466, 0.5000000000105581, 0.5000000000040499, 0.4999999999942369, 0.5000000000039171, 0.5000000000016301, 0.500000000003655, 0.49999999999829114, 0.5000000000174603, 0.5000000000045337, 0.500000000001898, 0.5000000000172209, 0.4999999999968136, 0.4999999999931621, 0.5000000000070098, 0.5000000000163295, 0.5000000000035606, 0.4999999999967806, 0.49999999999887684, 0.49999999998966055, 0.5000000000049295, 0.5000000000033576, 0.5000000000116511, 0.49999999999941247, 0.4999999999911863, 0.49999999999611416, 0.5000000000004339, 0.5000000000054764, 0.5000000000073622, 0.4999999999987932, 0.5000000000040207, 0.4999999999960469, 0.5000000000021652, 0.4999999999915452, 0.4999999999980955, 0.5000000000098371, 0.4999999999939032, 0.5000000000014618, 0.4999999999735298, 0.49999999998449485, 0.5000000000012709, 0.4999999999984005, 0.5000000000183099, 0.5000000000042105, 0.49999999999004097, 0.5000000000043321, 0.5000000000069422, 0.5000000000196544, 0.5000000000139578, 0.5000000000021484, 0.4999999999925346, 0.49999999999622796, 0.5000000000034959, 0.5000000000121537, 0.49999999999367395, 0.49999999999861583, 0.49999999999566075, 0.5000000000285714, 0.5000000000096895, 0.5000000000029008, 0.4999999999961047, 0.500000000014276, 0.5000000000035661, 0.5000000000025605, 0.5000000000084369, 0.5000000000064503, 0.5000000000077437]\n",
      "Objective value: 100\n",
      "Solution vector: [1, 1, 1, 1, 1, 1, 1, 1, 1, 1, 1, 1, 1, 1, 1, 1, 1, 1, 1, 1, 1, 1, 1, 1, 1, 1, 1, 1, 1, 1, 1, 1, 1, 1, 1, 1, 1, 1, 1, 1, 1, 1, 1, 1, 1, 1, 1, 1, 1, 1, 1, 1, 1, 1, 1, 1, 1, 1, 1, 1, 1, 1, 1, 1, 1, 1, 1, 1, 1, 1, 1, 1, 1, 1, 1, 1, 1, 1, 1, 1, 1, 1, 1, 1, 1, 1, 1, 1, 1, 1, 1, 1, 1, 1, 1, 1, 1, 1, 1, 1]\n"
     ]
    }
   ],
   "source": [
    "# (2 points) Solve the LP relaxation using **CVXPY** and apply the rounding rule discussed in class to obtain a vertex cover. Compare it to the optimal solution in part (a).\n",
    "\n",
    "import cvxpy as cp \n",
    "\n",
    "# Variables\n",
    "nodes = cp.Variable(100)\n",
    "\n",
    "with open(\"graph.txt\", \"r\") as f:\n",
    "    graph = [[int(num) for num in line.split()] for line in f]\n",
    "\n",
    "edges = []\n",
    "for i in range(len(graph)):\n",
    "    for j in range(len(graph[i])):\n",
    "        if graph[i][j] == 1:\n",
    "            edges.append((i,j))\n",
    "\n",
    "# Objective function\n",
    "obj = cp.Minimize(sum(nodes))\n",
    "\n",
    "# Constraints\n",
    "constraints = [nodes >= 0]\n",
    "\n",
    "for (m,n) in edges:\n",
    "    constraints.append(nodes[m] + nodes[n] >= 1)\n",
    "\n",
    "# Solution\n",
    "prob = cp.Problem(obj, constraints)\n",
    "opt = prob.solve()\n",
    "print(f\"Objective value (before rounding): {round(opt, 2)}\")\n",
    "print(f\"Solution vector (before rounding): {[(float(i.value)) for i in nodes]}\")\n",
    "\n",
    "# round nodes to 0/1\n",
    "# rounded_nodes = [round(float(n.value)) for n in nodes]\n",
    "rounded_nodes = [1 if float(n.value) >= 0.4999 else 0 for n in nodes]\n",
    "\n",
    "# Update optimal value\n",
    "new_opt = sum(rounded_nodes)\n",
    "\n",
    "print(f\"Objective value: {round(new_opt, 2)}\")\n",
    "print(f\"Solution vector: {[n for n in rounded_nodes]}\")"
   ]
  }
 ],
 "metadata": {
  "colab": {
   "collapsed_sections": [],
   "name": "hw2020-2.ipynb",
   "provenance": []
  },
  "kernelspec": {
   "display_name": "Python 3",
   "language": "python",
   "name": "python3"
  },
  "language_info": {
   "codemirror_mode": {
    "name": "ipython",
    "version": 3
   },
   "file_extension": ".py",
   "mimetype": "text/x-python",
   "name": "python",
   "nbconvert_exporter": "python",
   "pygments_lexer": "ipython3",
   "version": "3.12.1"
  }
 },
 "nbformat": 4,
 "nbformat_minor": 1
}
