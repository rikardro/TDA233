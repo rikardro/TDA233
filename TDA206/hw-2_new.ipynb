{
 "cells": [
  {
   "cell_type": "markdown",
   "metadata": {
    "id": "9BpU0PTotQH_"
   },
   "source": [
    "\n",
    "$\\qquad$ $\\qquad$ $\\qquad$  **TDA206/DIT206 Discrete Optimization: Home Assignment 2 -- Integer LP and Relaxation** <br />\n",
    "$\\qquad$ $\\qquad$ $\\qquad$                   **Grader: Marc Constantin** <br />\n",
    "$\\qquad$ $\\qquad$ $\\qquad$                   **Due Date: 17th Feb** <br />\n",
    "$\\qquad$ $\\qquad$ $\\qquad$                   **Submitted by: Name, Personal No., Email** <br />\n",
    "\n",
    "\n",
    "---\n",
    "\n",
    "\n",
    "General guidelines:\n",
    "*   All solutions to theoretical and pratical problems must be submitted in this ipynb notebook, and equations wherever required, should be formatted using LaTeX math-mode.\n",
    "*   All discussion regarding practical problems, along with solutions and plots should be specified in this notebook. All plots/results should be visible such that the notebook do not have to be run. But the code in the notebook should reproduce the plots/results if we choose to do so.\n",
    "*   Your name, personal number and email address should be specified above.\n",
    "*   All tables and other additional information should be included in this notebook.\n",
    "*   Before submitting, make sure that your code can run on another computer. That all plots can show on another computer including all your writing. It is good to check if your code can run here: https://colab.research.google.com.\n"
   ]
  },
  {
   "cell_type": "markdown",
   "metadata": {
    "id": "b2Ga2PmEtQIA"
   },
   "source": [
    "# Question 1.\n",
    "(5 points) \n",
    "There are 4 space colonies, each of which  requires a certain number of plasma conduits. There are 3 starbases in the vicinity. Each of them has total number of conduits they can spare and supply to the colonies. For each pair of starbase and colony, there is an associated cost for sending a cargo ship  (each of which carries one plasma conduit), as shown in the table below:\n",
    "\n",
    "\n",
    "\\begin{array}{l|c|c|c|c|c} \n",
    "      & Triacus & New Berlin  & Strnad  & Vega  & supply\\\\ \\hline\n",
    " Farpoint &   6 &  9 & 10 & 8 & 35\\\\\n",
    " Yorktown &  9 & 5 & 16 & 14 & 40\\\\\n",
    " Earhart & 12 &  7 & 13 & 9 & 50\\\\ \\hline\n",
    "    demand & 20 &30&30&45& \\left(\\sum=125\\right) \\\\ \n",
    "\\end{array}\n",
    "\n",
    "Your goal is to supply the colonies the plasma conduits they need, at minimum cost.\n",
    "\n",
    "\n",
    "Formulate a LP to solve the problem, explain why the solution is integral with a proof."
   ]
  },
  {
   "cell_type": "code",
   "execution_count": 33,
   "metadata": {},
   "outputs": [
    {
     "name": "stdout",
     "output_type": "stream",
     "text": [
      "Objective value: 1020.0\n",
      "Farpoint: [10.0, 0.0, 25.0, 0.0]\n",
      "Yorktown: [10.0, 30.0, 0.0, 0.0]\n",
      "Earhart: [0.0, 0.0, 5.0, 45.0]\n"
     ]
    }
   ],
   "source": [
    "import cvxpy as cp \n",
    "\n",
    "# Variables\n",
    "xf = cp.Variable(4, nonneg=True)\n",
    "xy = cp.Variable(4, nonneg=True)\n",
    "xe = cp.Variable(4, nonneg=True)\n",
    "\n",
    "# Objective function\n",
    "obj = cp.Minimize(6 * xf[0] + 9 * xf[1] + 10 * xf[2] + 8 * xf[3] + \n",
    "                  9 * xy[0] + 5 * xy[1] + 16 * xy[2] + 14 * xy[3] + \n",
    "                  12 * xe[0] + 7 * xe[1] + 13 * xe[2] + 9 * xe[3])\n",
    "\n",
    "# Constraints\n",
    "constraints = []\n",
    "# Supply\n",
    "constraints.append(sum(xf) <= 35)\n",
    "constraints.append(sum(xy) <= 40)\n",
    "constraints.append(sum(xe) <= 50)\n",
    "# Demand\n",
    "t, n, s, v = zip(xf, xy, xe)\n",
    "constraints.append(sum(t) >= 20)\n",
    "constraints.append(sum(n) >= 30)\n",
    "constraints.append(sum(s) >= 30)\n",
    "constraints.append(sum(v) >= 45)\n",
    "\n",
    "# Solution\n",
    "prob = cp.Problem(obj, constraints)\n",
    "opt = prob.solve()\n",
    "print(f\"Objective value: {round(opt, 2)}\")\n",
    "print(f\"Farpoint: {[round(float(i.value), 2) for i in xf]}\")\n",
    "print(f\"Yorktown: {[round(float(i.value), 2) for i in xy]}\")\n",
    "print(f\"Earhart: {[round(float(i.value), 2) for i in xe]}\")"
   ]
  },
  {
   "cell_type": "markdown",
   "metadata": {
    "id": "xFec7wzqtQIB"
   },
   "source": [
    "# Question 2.\n",
    "\n",
    "Recall the Minimum Weight Vertex Cover (VC) Problem: Given an undirected graph $G=(V, E)$, with node set $V$ and edge set $E$, where each node has a positive weight $w(v)$ associated with it (see the attached figure), the goal is to select a subset $V'\\subseteq V$ of nodes such that every edge has at least one node incident to it, and the total selected node weight $\\sum_{v\\in V'} w(v)$ is minimized. \n",
    "\n",
    "* (4 points) Formulate the ILP for the VC problem for the attached graph, and solve it using **CVXPY** integer solver, for instance, `myVar = cp.Variable(<dim>, integer=True)`.\n",
    "* (2 points) Pass to the LP relaxation and solve it using **CVXPY** and comment on the relation between the two solutions.\n",
    "* (2 points) Apply the rounding rule discussed in class to the optimal LP solution to obtain a solution to the ILP and compare it to the optimal ILP solution.\n",
    "\n",
    "<!-- ![title](vertex_cover_example.png) -->\n"
   ]
  },
  {
   "cell_type": "markdown",
   "metadata": {},
   "source": [
    "In a Minimum Weight Vertex Cover we want to minimize the total cost of picking vertices under the constraints that all edges must be connected to one vertex in the chosen set.\n",
    "\n",
    "We can formulate this problem as follows.\n",
    "\n",
    "$ \\text{min} \\sum_{v \\in V'}{w(v)} \\\\$\n",
    "s.t.\n",
    "$\\\\ x_u + x_v \\geq 1, (u,v) \\in E \\\\$\n",
    "$x =\n",
    "\\begin{cases}\n",
    "1, & u \\in V'\\\\\n",
    "0, & \\text{otherwise}\n",
    "\\end{cases}$"
   ]
  },
  {
   "cell_type": "code",
   "execution_count": 34,
   "metadata": {},
   "outputs": [],
   "source": [
    "# Function returning Minimum Weight Vertex Cover\n",
    "\n",
    "def min_weight_VC(nodes, weights):\n",
    "    # Objective function\n",
    "    obj = cp.Minimize(sum(x * y for x, y in zip(nodes, weights)))\n",
    "\n",
    "    # Constraints\n",
    "    constraints = [nodes[0] + nodes[1] >= 1,\n",
    "                   nodes[1] + nodes[2] >= 1,\n",
    "                   nodes[1] + nodes[4] >= 1,\n",
    "                   nodes[2] + nodes[3] >= 1,\n",
    "                   nodes[2] + nodes[4] >= 1,\n",
    "                   nodes[3] + nodes[4] >= 1,\n",
    "                   nodes[4] + nodes[5] >= 1,\n",
    "                   nodes >= 0\n",
    "                ]\n",
    "\n",
    "    # Solution\n",
    "    prob = cp.Problem(obj, constraints)\n",
    "    return prob.solve()"
   ]
  },
  {
   "cell_type": "code",
   "execution_count": 35,
   "metadata": {},
   "outputs": [
    {
     "name": "stdout",
     "output_type": "stream",
     "text": [
      "Objective value: 7.0\n",
      "Solution vector: [-0.0, 1.0, -0.0, 1.0, 1.0, -0.0]\n"
     ]
    }
   ],
   "source": [
    "# ILP solution for the attached graph\n",
    "\n",
    "# Variables\n",
    "nodes = cp.Variable(6, integer=True)\n",
    "weights = [1, 3, 4, 2, 2, 4]\n",
    "\n",
    "opt = min_weight_VC(nodes, weights)\n",
    "print(f\"Objective value: {round(opt, 2)}\")\n",
    "print(f\"Solution vector: {[round(float(n.value), 2) for n in nodes]}\")"
   ]
  },
  {
   "cell_type": "code",
   "execution_count": 36,
   "metadata": {},
   "outputs": [
    {
     "name": "stdout",
     "output_type": "stream",
     "text": [
      "Objective value: 7.0\n",
      "Solution vector: [0.48, 0.52, 0.48, 0.52, 1.0, -0.0]\n"
     ]
    }
   ],
   "source": [
    "# Solution of the LP relaxation of the attached graph\n",
    "\n",
    "# Variables (no constraint on them being integral)\n",
    "nodes = cp.Variable(6)\n",
    "weights = [1, 3, 4, 2, 2, 4]\n",
    "\n",
    "opt = min_weight_VC(nodes, weights)\n",
    "print(f\"Objective value: {round(opt, 2)}\")\n",
    "print(f\"Solution vector: {[round(float(n.value), 2) for n in nodes]}\")"
   ]
  },
  {
   "cell_type": "markdown",
   "metadata": {},
   "source": [
    "Without integer constraints on the variables (nodes), they can be of any value. This solution does not make sense, because the node variables are supposed to be representations of booleans. We overcome this problem by rounding the nodes to 0 or 1:\n",
    "\n",
    "$ \\tilde{x_u} = \n",
    "\\begin{cases}\n",
    "1, & x_u^* \\geq 0.5\\\\\n",
    "0, & \\text{otherwise}\n",
    "\\end{cases}\n",
    "$\n",
    "\n",
    "Then, we obtain the (relaxed) optimal solution by multiplying with nodes to the weights.\n",
    "\n",
    "In this case, the optimal solution was identical to the ILP optimal, but this must not be the case."
   ]
  },
  {
   "cell_type": "code",
   "execution_count": 37,
   "metadata": {},
   "outputs": [
    {
     "name": "stdout",
     "output_type": "stream",
     "text": [
      "Objective value: 7\n",
      "Solution vector: [0, 1, 0, 1, 1, 0]\n"
     ]
    }
   ],
   "source": [
    "# Solution of the LP relaxation of the attached graph\n",
    "\n",
    "# Variables (no constraint on them being integral)\n",
    "nodes = cp.Variable(6)\n",
    "weights = [1, 3, 4, 2, 2, 4]\n",
    "\n",
    "opt = min_weight_VC(nodes, weights)\n",
    "\n",
    "# round nodes to 0/1\n",
    "nodes = [round(float(n.value)) for n in nodes]\n",
    "\n",
    "# Update optimal value\n",
    "new_opt = sum(x * y for x, y in zip(nodes, weights))\n",
    "\n",
    "print(f\"Objective value: {round(new_opt, 2)}\")\n",
    "print(f\"Solution vector: {[n for n in nodes]}\")"
   ]
  },
  {
   "cell_type": "markdown",
   "metadata": {
    "id": "FJozdRm7tQIE"
   },
   "source": [
    "# Question 3.\n",
    "\n",
    "Consider a number of interpreters (Olof, Petra, Qamar,\n",
    "  Rachel, Soren and Tao), as well as a set of languages (Arab,\n",
    "  Bengali, Cantonese, Dutch, English, French and German). Each\n",
    "  interpreter speaks a number of different languages (abbreviated by\n",
    "  first letter), and has a certain per-diem integer cost:\n",
    "\n",
    "\\begin{array}{lll}\n",
    "Interpreter & Languages & Cost\\\\\n",
    "O & ABD & 3\\\\\n",
    "P & C & 1\\\\\n",
    "Q & CDG & 1\\\\\n",
    "R & B & 2\\\\\n",
    "S & G & 4\\\\\n",
    "T & EF & 1\\\\\n",
    "\\end{array}\n",
    "\n",
    "* (2 points) A *hypergraph* is a structure $H = (V,E)$ where $V$ is a set of vertices and $E$ is a collection of subsets of $V$. The special case when all subsets $e \\in E$ have size exactly $2$ corresponds to the familiar case of a graph. A vertex cover in such a hypergraph is a subset $U \\subseteq V$ such that $e \\cap U \\not = \\emptyset$ for each $e \\in E$ (note that this reduces to the usual vertex cover in graphs). Show that the problem of finding interpreters can be formulated as a vertex cover problem in a sutable hypergraph.\n",
    "* (4 points) Develop a ILP formulation to finding the vertex cover of minimum cost in a hypergraph. The hypergraph can be represented as a $|V| \\times |E|$ binary matrix $A$ where $A[i,j] = 1$ iff vertex $i$ is in edge $j$ and 0 otherwise. The costs for vertices are in an array $\\texttt{c}$ where the cost of picking vertex $i$ is $c[i]$. Use the ILP formulation for the VC problem to hire the cheapest set of interpreters such that all languages are covered. Input the data above manuallly and solve it using **CVXPY**'s integer solver.\n",
    "* (2 points) Pass to the LP relaxation and solve it using **CVXPY**.\n",
    "* (2 points) Explain why the two solutions above are same (different).\n"
   ]
  },
  {
   "cell_type": "markdown",
   "metadata": {
    "id": "wQn66ghatQIG"
   },
   "source": [
    "# Question 4. \n",
    "Consider the ILP and its LP relaxation corresponding to the VC problem for the graph $G$ given in the data file. This is a ***random graph*** $G(n,p)$ with $n=100$ vertices generated as follows: for each pair of vertices **independently**, we add an edge with probability $p=0.1$ (so the graph has about 1000 edges).\n",
    "\n",
    "* **a**. (2 points) Find the optimal solution using **CVXPY**'s integer solver.\n",
    "* **b**. (2 points) Solve the LP relaxation using **CVXPY** and apply the rounding rule discussed in class to obtain a vertex cover. Compare it to the optimal solution in part (a).\n",
    "* **c**. (6 points) Consider the following rounding rule: we build up the vertex cover incrementally starting with $S:= \\emptyset$. Now consider the edges in $G$ in any order. If an edge $(u,v)$ is already covered by a vertex in $S$, do nothing. Otherwise add to $S$ the vertex $u$ if $x^*(u) \\geq x^*(v)$, or $v$ otherwise (where ${\\bf x}^*$ is the LP optimum solution computed in part (b).  Comment why this also results in a vertex cover and has cost no more than that corresponding to the rounding rule in part (b). Compare the cost of the solution produced by this rule to the optimal solution."
   ]
  }
 ],
 "metadata": {
  "colab": {
   "collapsed_sections": [],
   "name": "hw2020-2.ipynb",
   "provenance": []
  },
  "kernelspec": {
   "display_name": "Python 3",
   "language": "python",
   "name": "python3"
  },
  "language_info": {
   "codemirror_mode": {
    "name": "ipython",
    "version": 3
   },
   "file_extension": ".py",
   "mimetype": "text/x-python",
   "name": "python",
   "nbconvert_exporter": "python",
   "pygments_lexer": "ipython3",
   "version": "3.12.1"
  }
 },
 "nbformat": 4,
 "nbformat_minor": 1
}
