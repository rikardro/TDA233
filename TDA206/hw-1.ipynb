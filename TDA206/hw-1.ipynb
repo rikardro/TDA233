{
 "cells": [
  {
   "cell_type": "markdown",
   "metadata": {},
   "source": [
    "\n",
    "$\\qquad$ $\\qquad$ $\\qquad$  **TDA206/DIT206 Discrete Optimization: Assignment 1 -- Modelling and Solving LPs** <br />\n",
    "$\\qquad$ $\\qquad$ $\\qquad$                   **Grader: N/A** <br />\n",
    "$\\qquad$ $\\qquad$ $\\qquad$                     **Due Date: 27th January** <br />\n",
    "$\\qquad$ $\\qquad$ $\\qquad$                   **Submitted by: Olof Lindberg, 020725-0192, ololin0725@gmail.com** <br />\n",
    "$\\qquad$ $\\qquad$ $\\qquad$                   **Submitted by: Rikard Roos, 941003-9292, rikardro@student.chalmers.se** <br />\n",
    "\n",
    "\n",
    "---\n",
    "\n",
    "\n",
    "General guidelines:\n",
    "*   All solutions to theoretical and pratical problems must be submitted in this ipynb notebook, and equations wherever required, should be formatted using LaTeX math-mode.\n",
    "*   All discussion regarding practical problems, along with solutions and plots should be specified in this notebook. All plots/results should be visible such that the notebook do not have to be run. But the code in the notebook should reproduce the plots/results if we choose to do so.\n",
    "*   Your name, personal number and email address should be specified above.\n",
    "*   All tables and other additional information should be included in this notebook.\n",
    "*   Before submitting, make sure that your Jupyter notebook run on another computer. That all plots can show on another computer including all your writing. It is good to check if your code can run here: https://colab.research.google.com.\n"
   ]
  },
  {
   "cell_type": "markdown",
   "metadata": {},
   "source": [
    "# Problem 1.\n",
    "\n",
    "Consider the following LP problem:\n",
    "\n",
    "\n",
    "\\begin{aligned}\n",
    "\\mathcal{max} \\quad 4x_1-2x_2+5x_3+6x_4+7x_5\\\\\n",
    "\\textrm{s.t} \\\\\n",
    "2x_1 + 2x_2 - 4x_3 + 4x_4 + 8x_5 \\leq 6\\\\\n",
    "2x_1 + x_2 - 2x_3 - x_4 - 3x_5 \\geq -1\\\\\n",
    "5x_1 - 2x_2 + 4x_3 + 4x_4 + 2x_5 = 5\\\\\n",
    "2x_1 - 2x_2 + 5x_3 + 3x_4 + x_5 \\leq 4\\\\\n",
    "\\vec x \\geq \\vec 0\n",
    "\\end{aligned}\n",
    "\n",
    "* Use CVXPY to solve the LP above. Submit your code, and print the solution vector and objective value."
   ]
  },
  {
   "cell_type": "code",
   "execution_count": 341,
   "metadata": {},
   "outputs": [
    {
     "name": "stdout",
     "output_type": "stream",
     "text": [
      "Objective value: 9.220338951278354\n",
      "Solution vector: [0.627, 2.814, 1.542, 0.0, 0.661]\n"
     ]
    }
   ],
   "source": [
    "import cvxpy as cp\n",
    "\n",
    "# Variables\n",
    "x_1 = cp.Variable()\n",
    "x_2 = cp.Variable()\n",
    "x_3 = cp.Variable()\n",
    "x_4 = cp.Variable()\n",
    "x_5 = cp.Variable()\n",
    "\n",
    "# Objective\n",
    "obj = cp.Maximize( 4 * x_1 - 2 * x_2 + 5 * x_3 + 6 * x_4 + 7 * x_5)\n",
    "\n",
    "# Constraints\n",
    "constraints = [2 * x_1 + 2 * x_2 - 4 * x_3 + 4 * x_4 + 8 * x_5 <= 6, \n",
    "               2 * x_1 + x_2 - 2 * x_3 - x_4 - 3 * x_5 >= -1,\n",
    "               5 * x_1 - 2 * x_2 + 4 * x_3 + 4 * x_4 + 2 * x_5 == 5,\n",
    "               2 * x_1 - 2 * x_2 + 5 * x_3 + 3 * x_4 + x_5 <= 4,\n",
    "               x_1 >= 0, x_2 >= 0, x_3 >= 0, x_4 >= 0, x_5 >= 0]\n",
    "\n",
    "prob = cp.Problem(obj, constraints)\n",
    "opt = prob.solve()\n",
    "print(f\"Objective value: {opt}\")\n",
    "print(f\"Solution vector: {[round(float(v.value), 3) for v in [x_1, x_2, x_3, x_4, x_5]]}\")\n"
   ]
  },
  {
   "cell_type": "markdown",
   "metadata": {},
   "source": [
    "# Problem 2.\n",
    "\n",
    "There are 3 people who all start at the same location, and want to get to same end destination a total of $d=100$ units away. They have 1 bicycle, which they have to share. The amount of distance per unit time that the three people can cover walking and cycling is given below:\n",
    "\n",
    "\\begin{array}{l|c|c|} \n",
    "      & Walking Speed & Cycling Speed\\\\ \\hline\n",
    " Person\\ 1 &  1 & 6 \\\\\n",
    " Person\\ 2 &  2 & 8 \\\\\n",
    " Person\\ 3 &  1 & 6\\\\ \\hline\n",
    "\\end{array}\n",
    "\n",
    "Our goal is to minimize the time $t$ required for all people to reach the end destination. For each person consider 4 variables $x_i$, $u_i$, $y_i$, $z_i$, which respectively are the amount of time walking forwards, the amount of time walking backwards, the amount of time cycling forwards, and the amount of time cycling backwards. \n",
    "\n",
    "1. Formulate an LP to solve this problem for the generic where there are $n$ people trying to move a distance $d$, each with walking rate $w_i$ and biking rate $b_i$ for $i = 1\\ldots n$.\n",
    "\n",
    "    You should consider the following constraints\n",
    "    - each person's total time for moving (forwards, backwards, walking, bike) not exceed the total time $t$\n",
    "    - each person must make it all the way to $d$, recall that distance = velocity * time\n",
    "    - the bike, riding forwards or backwards, can only be used for at most $t$ units of time.\n",
    "    - the bike's distance to the start is at most $d$, remember that it can move both forwards and backwards.\n",
    "    - time cannot be negative\n",
    "   \n",
    "2. Implement the generic LP in CVXPY and solve for the specific case of 3 people given above. Submit your code and write down objective and solution. Also confirm that the optimal solution satisfies $u_i = 0$ (i.e. no one ever walks backwards) and $y_iz_i = 0$ for all persons (i.e. no person ever cycles both forwards and backwards).\n",
    "\n",
    "3. Use CVXPY to show what would happen if there was a 4th person who could walk at rate $3$ and cycle at rate $9$.\n"
   ]
  },
  {
   "cell_type": "code",
   "execution_count": 342,
   "metadata": {},
   "outputs": [],
   "source": [
    "import cvxpy as cp\n",
    "\n",
    "# Generic solution for n people to walk distance d\n",
    "# n[i] = (w_i, b_i) \n",
    "\n",
    "def minimize_time(rates, d):\n",
    "    # Initialize variables\n",
    "    people = []\n",
    "\n",
    "    for _ in range(len(rates)):\n",
    "        # Each person has positive time for each variable\n",
    "        people.append([cp.Variable(nonneg=True) for _ in range(4)])\n",
    "\n",
    "    t = cp.Variable()\n",
    "\n",
    "    # Objective function\n",
    "    obj = cp.Minimize(t)\n",
    "\n",
    "    # Constraints\n",
    "    constraints = []\n",
    "\n",
    "    # Each person's total time for moving cannot exceed the total time t\n",
    "    for p in people:\n",
    "        constraints.append(sum(p) <= t)\n",
    "\n",
    "    # Each person must make it all the way to d\n",
    "    for i, (w, b) in enumerate(rates):\n",
    "        p = people[i]\n",
    "        constraints.append(w * (p[0] - p[1]) + b * (p[2] - p[3]) >= d)\n",
    "\n",
    "    # The bike can only be used for at most t units of time\n",
    "    total_bike_time = sum(p[2] + p[3] for p in people)\n",
    "    constraints.append(total_bike_time <= t)\n",
    "\n",
    "    # The bike's distance from the start cannot exceed d\n",
    "    total_bike_distance = sum(rates[i][1] * (people[i][2] - people[i][3]) for i in range(len(people)))\n",
    "    constraints.append(total_bike_distance <= d)\n",
    "\n",
    "    # Time cannot be negative\n",
    "    constraints.append(t >= 0)\n",
    "\n",
    "    # Solution\n",
    "    prob = cp.Problem(obj, constraints)\n",
    "    opt = prob.solve()\n",
    "\n",
    "    print(f\"Objective value: {round(opt, 3)}\")\n",
    "    for i, p in enumerate(people):\n",
    "        print(f\"Person {i + 1}: {[round(float(v.value), 3) for v in p]}\")\n"
   ]
  },
  {
   "cell_type": "code",
   "execution_count": 343,
   "metadata": {},
   "outputs": [
    {
     "name": "stdout",
     "output_type": "stream",
     "text": [
      "Objective value: 55.0\n",
      "Person 1: [46.0, 0.0, 9.0, 0.0]\n",
      "Person 2: [54.0, 0.0, 0.0, 1.0]\n",
      "Person 3: [46.0, 0.0, 9.0, 0.0]\n"
     ]
    }
   ],
   "source": [
    "# Implement the generic LP in CVXPY and solve for the specific case of 3 people given above.\n",
    "    \n",
    "n = [(1, 6), (2, 8), (1, 6)] \n",
    "minimize_time(n, 100)\n"
   ]
  },
  {
   "cell_type": "code",
   "execution_count": 344,
   "metadata": {},
   "outputs": [
    {
     "name": "stdout",
     "output_type": "stream",
     "text": [
      "Objective value: 47.608\n",
      "Person 1: [37.13, 0.0, 10.478, 0.0]\n",
      "Person 2: [46.811, 0.0, 0.797, 0.0]\n",
      "Person 3: [37.13, 0.0, 10.478, 0.0]\n",
      "Person 4: [44.039, 0.0, 0.0, 3.569]\n"
     ]
    }
   ],
   "source": [
    "# 3. Use CVXPY to show what would happen if there was a 4th person who could walk at rate $3$ and cycle at rate $9$.\n",
    "\n",
    "n = [(1, 6), (2, 8), (1, 6), (3, 9)]\n",
    "minimize_time(n, 100)\n"
   ]
  },
  {
   "cell_type": "markdown",
   "metadata": {},
   "source": [
    "# Question 3.\n",
    "Use CVXPY to model and solve the other examples in the textbook (sections 2.1 -- 2.6)."
   ]
  },
  {
   "cell_type": "code",
   "execution_count": 345,
   "metadata": {},
   "outputs": [
    {
     "name": "stdout",
     "output_type": "stream",
     "text": [
      "Objective value: 0.071\n",
      "Solution vector: ['9.5', '38', '290']\n"
     ]
    }
   ],
   "source": [
    "# Optimized diet\n",
    "import cvxpy as cp \n",
    "\n",
    "# Variables\n",
    "x1 = cp.Variable()\n",
    "x2 = cp.Variable() \n",
    "x3 = cp.Variable()\n",
    "\n",
    "# Objective function\n",
    "obj = cp.Minimize(0.75 * x1 + 0.5 * x2 + 0.15 * x3)\n",
    "\n",
    "# Constraints\n",
    "constraints = [35 * x1 + 0.5 * x2 + 0.5 * x3 >= 0.5,\n",
    "              60 * x1 + 300 * x2 + 10 * x3 >= 15,\n",
    "              30 * x1 + 20 * x2 + 10 * x3 >= 4,\n",
    "              x1 >= 0, x2 >= 0, x3 >= 0]\n",
    "\n",
    "# Solution\n",
    "prob = cp.Problem(obj, constraints)\n",
    "opt = prob.solve()\n",
    "vec = [x1.value, x2.value, x3.value]\n",
    "\n",
    "print(f\"Objective value: {opt:.2g}\")\n",
    "print(f\"Solution vector: {['{:g}'.format(float('{:.2g}'.format(i * 1000))) for i in vec]}\")\n",
    "\n"
   ]
  },
  {
   "cell_type": "code",
   "execution_count": 346,
   "metadata": {},
   "outputs": [
    {
     "name": "stdout",
     "output_type": "stream",
     "text": [
      "Objective value: 4\n",
      "Optimal solution: [2.0, 1.0, 1.0, 1.0, 1.0, 2.0, 2.193, -1.193, 3.193, 0.807]\n"
     ]
    }
   ],
   "source": [
    "# Flow in a network\n",
    "\n",
    "# Variables\n",
    "x = cp.Variable(10)\n",
    "\n",
    "# Objective function\n",
    "obj = cp.Maximize(x[0] + x[1] + x[2])\n",
    "\n",
    "# Constraints \n",
    "constraints = [\n",
    "    x[0] <= 3, -3 <= x[0],\n",
    "    x[1] <= 1, -1 <= x[1],\n",
    "    x[2] <= 1, -1 <= x[2],\n",
    "    x[3] <= 1, -1 <= x[3],\n",
    "    x[4] <= 1, -1 <= x[4],\n",
    "    x[5] <= 3, -3 <= x[5],\n",
    "    x[6] <= 4, -4 <= x[6],\n",
    "    x[7] <= 4, -4 <= x[7],\n",
    "    x[8] <= 4, -4 <= x[8],\n",
    "    x[9] <= 1, -1 <= x[9],\n",
    "    x[0] == x[3] + x[4],\n",
    "    x[1] + x[3] == x[5],\n",
    "    x[2] == x[6] + x[7],\n",
    "    x[4] + x[6] == x[8],\n",
    "    x[5] + x[7] == x[9]\n",
    "]\n",
    "\n",
    "# Solution\n",
    "prob = cp.Problem(obj, constraints)\n",
    "opt = prob.solve()\n",
    "\n",
    "print(f\"Objective value: {opt:.2g}\")\n",
    "print(f\"Optimal solution: {[round(float(v.value), 3) for v in x]}\")\n",
    "\n"
   ]
  },
  {
   "cell_type": "code",
   "execution_count": 347,
   "metadata": {},
   "outputs": [
    {
     "name": "stdout",
     "output_type": "stream",
     "text": [
      "Objective value: 52175\n"
     ]
    }
   ],
   "source": [
    "# Ice cream all year around\n",
    "\n",
    "# Variables\n",
    "x = [0] + [cp.Variable(nonneg=True) for _ in range(12)]\n",
    "s = [0] + [cp.Variable(nonneg=True) for _ in range(11)] + [0]\n",
    "y = [cp.Variable(nonneg=True) for _ in range(12)]\n",
    "z = [cp.Variable(nonneg=True) for _ in range(12)]\n",
    "# Approximation of values from the graph\n",
    "d = [350, 340, 430, 640, 640, 540, 700, 680, 350, 420, 400, 600]\n",
    "\n",
    "# Objective function\n",
    "obj = cp.Minimize(50 * sum(y) + 50 * sum(z) + 20 * sum(s))\n",
    "\n",
    "# Constraints\n",
    "constraints = []\n",
    "\n",
    "for i in range(12):\n",
    "    constraints.append(x[i+1] + s[i] - s[i+1] == d[i])\n",
    "\n",
    "for i in range(12):\n",
    "    constraints.append(x[i+1] - x[i] == y[i] - z[i])\n",
    "\n",
    "# Solution\n",
    "prob = cp.Problem(obj, constraints)\n",
    "opt = prob.solve()\n",
    "print(f\"Objective value: {round(opt)}\")\n"
   ]
  },
  {
   "cell_type": "code",
   "execution_count": 348,
   "metadata": {},
   "outputs": [
    {
     "name": "stdout",
     "output_type": "stream",
     "text": [
      "Objective value: 22\n",
      "The line: y = -0.3103448276771387x + 56.27586207076257\n"
     ]
    }
   ],
   "source": [
    "# Fitting a line\n",
    "\n",
    "# Variables\n",
    "x = [17, 27, 30, 34, 38, 38, 43, 46, 55, 55]\n",
    "y = [51, 48, 45, 45, 44, 58, 45, 42, 42, 39]\n",
    "e = cp.Variable(10)\n",
    "a = cp.Variable()\n",
    "b = cp.Variable()\n",
    "\n",
    "# Objective function\n",
    "obj = cp.Minimize(sum(e))\n",
    "\n",
    "# Constraints \n",
    "constraints = []\n",
    "for i in range(10):\n",
    "    constraints.append(e[i] >= a * x[i] + b - y[i])\n",
    "    constraints.append(e[i] >= -(a * x[i] + b - y[i]))\n",
    "\n",
    "# Solution\n",
    "prob = cp.Problem(obj, constraints)\n",
    "opt = prob.solve()\n",
    "print(f\"Objective value: {round(opt)}\")\n",
    "print(f\"The line: y = {a.value}x + {b.value}\")"
   ]
  },
  {
   "cell_type": "code",
   "execution_count": 349,
   "metadata": {},
   "outputs": [
    {
     "name": "stdout",
     "output_type": "stream",
     "text": [
      "Objective value: 1\n",
      "The line: y = 0x + 10\n"
     ]
    }
   ],
   "source": [
    "# Separation of points\n",
    "\n",
    "# Approximation of values\n",
    "p = [(15, 16), (10, 20), (9, 30), (23, 24), (30, 31), (35, 30), (37, 23), (44, 48)]\n",
    "q = [(15, 11), (25, 15), (26, 18), (30, 16), (36, 13), (38, 22)]\n",
    "\n",
    "\n",
    "# Variables\n",
    "a = cp.Variable()\n",
    "b = cp.Variable()\n",
    "delta = cp.Variable()\n",
    "\n",
    "# Objective function\n",
    "obj = cp.Maximize(delta)\n",
    "\n",
    "# Constraints\n",
    "constraints = []\n",
    "for i in range(len(p)):\n",
    "    constraints.append(p[i][1] >= a * p[i][0] + b + delta)\n",
    "\n",
    "for j in range(len(q)):\n",
    "    constraints.append(q[j][1] <= a * q[j][0] + b - delta)\n",
    "\n",
    "# Solution\n",
    "prob = cp.Problem(obj, constraints)\n",
    "opt = prob.solve()\n",
    "print(f\"Objective value: {round(opt)}\")\n",
    "print(f\"The line: y = {round(float(a.value))}x + {round(float(b.value))}\")"
   ]
  },
  {
   "cell_type": "code",
   "execution_count": 350,
   "metadata": {},
   "outputs": [
    {
     "name": "stdout",
     "output_type": "stream",
     "text": [
      "Objective value: -0.9872652454539556\n"
     ]
    }
   ],
   "source": [
    "# Largest disk in a convex polygon\n",
    "import math\n",
    "\n",
    "# Random values\n",
    "a = [1, 1, -1, -1, 0.5, 0.5, -0.5, -0.5]\n",
    "b = [1, -1, 1, -1, 1.5, -1.5, 1.5, -1.5]\n",
    "k = 4\n",
    "\n",
    "# Variables\n",
    "r = cp.Variable()\n",
    "s1 = cp.Variable()\n",
    "s2 = cp.Variable()\n",
    "\n",
    "# Objective function\n",
    "obj = cp.Maximize(r)\n",
    "\n",
    "# Constraints \n",
    "constraints = []\n",
    "for i in range(k):\n",
    "    constraints.append((s2 - a[i] * s1 - b[i]) / math.sqrt (a[i] ** 2 + 1) >= r)\n",
    "    \n",
    "for j in range(len(a)-k):\n",
    "    constraints.append((s2 - a[k+j] * s1 - b[k+j]) / math.sqrt (a[k+j] ** 2 + 1) <= -r)\n",
    "\n",
    "# Solution\n",
    "prob = cp.Problem(obj, constraints)\n",
    "opt = prob.solve()\n",
    "print(f\"Objective value: {opt}\")"
   ]
  }
 ],
 "metadata": {
  "kernelspec": {
   "display_name": "Python 3",
   "language": "python",
   "name": "python3"
  },
  "language_info": {
   "codemirror_mode": {
    "name": "ipython",
    "version": 3
   },
   "file_extension": ".py",
   "mimetype": "text/x-python",
   "name": "python",
   "nbconvert_exporter": "python",
   "pygments_lexer": "ipython3",
   "version": "3.12.1"
  }
 },
 "nbformat": 4,
 "nbformat_minor": 2
}
